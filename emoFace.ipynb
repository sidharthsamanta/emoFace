{
 "cells": [
  {
   "cell_type": "markdown",
   "metadata": {},
   "source": [
    "# emoFace"
   ]
  },
  {
   "cell_type": "markdown",
   "metadata": {},
   "source": [
    "run all cells"
   ]
  },
  {
   "cell_type": "code",
   "execution_count": 24,
   "metadata": {},
   "outputs": [],
   "source": [
    "import cv2,os,random,numpy as np"
   ]
  },
  {
   "cell_type": "code",
   "execution_count": 25,
   "metadata": {},
   "outputs": [],
   "source": [
    "#getting emoji name list\n",
    "def getEmojis():\n",
    "    emojis_folder = 'emojis/'\n",
    "    emojis = []\n",
    "    for emoji in range(len(os.listdir(emojis_folder))):\n",
    "        emojis.append(cv2.imread(emojis_folder+str(emoji)+'.png', -1))\n",
    "    return emojis"
   ]
  },
  {
   "cell_type": "code",
   "execution_count": 26,
   "metadata": {},
   "outputs": [],
   "source": [
    "def blend_transparent(face_img, overlay_t_img):\n",
    "    # Split out the transparency mask from the colour info\n",
    "    overlay_img = overlay_t_img[:,:,:3] # Grab the BRG planes\n",
    "    overlay_mask = overlay_t_img[:,:,3:]  # And the alpha plane\n",
    "\n",
    "    # Again calculate the inverse mask\n",
    "    background_mask = 255 - overlay_mask\n",
    "\n",
    "    # Turn the masks into three channel, so we can use them as weights\n",
    "    overlay_mask = cv2.cvtColor(overlay_mask, cv2.COLOR_GRAY2BGR)\n",
    "    background_mask = cv2.cvtColor(background_mask, cv2.COLOR_GRAY2BGR)\n",
    "\n",
    "    # Create a masked out face image, and masked out overlay\n",
    "    # We convert the images to floating point in range 0.0 - 1.0\n",
    "    face_part = (face_img * (1 / 255.0)) * (background_mask * (1 / 255.0))\n",
    "    overlay_part = (overlay_img * (1 / 255.0)) * (overlay_mask * (1 / 255.0))\n",
    "\n",
    "    # And finally just add them together, and rescale it back to an 8bit integer image    \n",
    "    return np.uint8(cv2.addWeighted(face_part, 255.0, overlay_part, 255.0, 0.0))\n",
    "\n",
    "\n",
    "#resizing the the emoji \n",
    "def blend(image, emoji, position):\n",
    "    \n",
    "    #getting the coordinates\n",
    "    x, y, w, h = position\n",
    "    \n",
    "    #getting the emoji\n",
    "    emoji = cv2.resize(emoji, (w, h))\n",
    "    try:\n",
    "        #resizing the emoji\n",
    "        image[y:y+h, x:x+w] = blend_transparent(image[y:y+h, x:x+w], emoji)\n",
    "    except:\n",
    "        pass\n",
    "    \n",
    "    #returning the resized image\n",
    "    return image\n"
   ]
  },
  {
   "cell_type": "code",
   "execution_count": 27,
   "metadata": {},
   "outputs": [],
   "source": [
    "def emoFace():\n",
    "    \n",
    "    #get the emoji name list\n",
    "    emojis = getEmojis()\n",
    "    \n",
    "    #getting the face detect cascade    \n",
    "    faceDetect = cv2.CascadeClassifier('haarcascade_frontalface_default.xml')\n",
    "    \n",
    "    #setting the video source to internal camera\n",
    "    #for external camera change the source value\n",
    "    cam=cv2.VideoCapture(0)\n",
    "    \n",
    "    #setting the default emoji name\n",
    "    r=6\n",
    "    \n",
    "    #starting the face detection process\n",
    "    while(True):\n",
    "        \n",
    "        #reading the image\n",
    "        rett,img=cam.read()\n",
    "        \n",
    "        #transforming the color image to grayscale (black and white)\n",
    "        gray=cv2.cvtColor(img,cv2.COLOR_BGR2GRAY)\n",
    "        \n",
    "        #assigning the face value\n",
    "        faces=faceDetect.detectMultiScale(gray,1.3,5)\n",
    "        \n",
    "        #changeing the emoji randomly when we get \"w \"\n",
    "        if (cv2.waitKey(1)==ord(\"w\")):\n",
    "            r=random.randint(0,len(emojis)-1)\n",
    "        \n",
    "        #deploying the image\n",
    "        for(x,y,w,h) in faces:\n",
    "\n",
    "            #getting the resized emoji\n",
    "            img = blend(img, emojis[r], (x, y, w, h))\n",
    "        \n",
    "        #starting the camera window\n",
    "        cv2.imshow(\"emoFace\",img)\n",
    "        \n",
    "        #stopping the process by recieving \"q\"\n",
    "        if (cv2.waitKey(1)==ord(\"q\")):\n",
    "            break\n",
    "    \n",
    "    #closing the camera window\n",
    "    cam.release()\n",
    "    cv2.destroyWindow(\"emoFace\")"
   ]
  },
  {
   "cell_type": "code",
   "execution_count": 28,
   "metadata": {},
   "outputs": [],
   "source": [
    "#press \"q\" repeatedly to quit\n",
    "#press \"w\" repeatedly to change emoji\n",
    "\n",
    "#both are case sensitive, always turn off the capsLock\n",
    "#\n",
    "\n",
    "emoFace()\n"
   ]
  },
  {
   "cell_type": "code",
   "execution_count": null,
   "metadata": {},
   "outputs": [],
   "source": []
  }
 ],
 "metadata": {
  "kernelspec": {
   "display_name": "Python 3",
   "language": "python",
   "name": "python3"
  },
  "language_info": {
   "codemirror_mode": {
    "name": "ipython",
    "version": 3
   },
   "file_extension": ".py",
   "mimetype": "text/x-python",
   "name": "python",
   "nbconvert_exporter": "python",
   "pygments_lexer": "ipython3",
   "version": "3.7.1"
  }
 },
 "nbformat": 4,
 "nbformat_minor": 2
}
