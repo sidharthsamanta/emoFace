{
 "cells": [
  {
   "cell_type": "code",
   "execution_count": 14,
   "metadata": {},
   "outputs": [],
   "source": [
    "import cv2,os,random,numpy as np"
   ]
  },
  {
   "cell_type": "code",
   "execution_count": 2,
   "metadata": {},
   "outputs": [],
   "source": [
    "#getting emoji name list\n",
    "def getEmojis():\n",
    "    emojis_folder = 'emojis/'\n",
    "    emojis = []\n",
    "    for emoji in range(len(os.listdir(emojis_folder))):\n",
    "        emojis.append(cv2.imread(emojis_folder+str(emoji)+'.png', -1))\n",
    "    return emojis"
   ]
  },
  {
   "cell_type": "code",
   "execution_count": 3,
   "metadata": {},
   "outputs": [],
   "source": [
    "def blend_transparent(face_img, overlay_t_img):\n",
    "    # Split out the transparency mask from the colour info\n",
    "    overlay_img = overlay_t_img[:,:,:3] # Grab the BRG planes\n",
    "    overlay_mask = overlay_t_img[:,:,3:]  # And the alpha plane\n",
    "\n",
    "    # Again calculate the inverse mask\n",
    "    background_mask = 255 - overlay_mask\n",
    "\n",
    "    # Turn the masks into three channel, so we can use them as weights\n",
    "    overlay_mask = cv2.cvtColor(overlay_mask, cv2.COLOR_GRAY2BGR)\n",
    "    background_mask = cv2.cvtColor(background_mask, cv2.COLOR_GRAY2BGR)\n",
    "\n",
    "    # Create a masked out face image, and masked out overlay\n",
    "    # We convert the images to floating point in range 0.0 - 1.0\n",
    "    face_part = (face_img * (1 / 255.0)) * (background_mask * (1 / 255.0))\n",
    "    overlay_part = (overlay_img * (1 / 255.0)) * (overlay_mask * (1 / 255.0))\n",
    "\n",
    "    # And finally just add them together, and rescale it back to an 8bit integer image    \n",
    "    return np.uint8(cv2.addWeighted(face_part, 255.0, overlay_part, 255.0, 0.0))\n",
    "\n",
    "\n",
    "#resizing the the emoji \n",
    "def blend(image, emoji, position):\n",
    "    x, y, w, h = position\n",
    "    emoji = cv2.resize(emoji, (w, h))\n",
    "    try:\n",
    "    image[y:y+h, x:x+w] = blend_transparent(image[y:y+h, x:x+w], emoji)\n",
    "    except:\n",
    "        pass\n",
    "    return image\n"
   ]
  },
  {
   "cell_type": "code",
   "execution_count": 12,
   "metadata": {},
   "outputs": [],
   "source": [
    "def emoFace():\n",
    "    \n",
    "    emojis = getEmojis()\n",
    "    \n",
    "    faceDetect = cv2.CascadeClassifier('haarcascade_frontalface_default.xml')\n",
    "\n",
    "    cam=cv2.VideoCapture(0)\n",
    "    \n",
    "    r=6\n",
    "    \n",
    "\n",
    "    while(True):\n",
    "        \n",
    "        rett,img=cam.read()\n",
    "        gray=cv2.cvtColor(img,cv2.COLOR_BGR2GRAY)\n",
    "        faces=faceDetect.detectMultiScale(gray,1.3,5)\n",
    "        if (cv2.waitKey(1)==ord(\"w\")):\n",
    "            r=random.randint(0,len(emojis)-1)\n",
    "        for(x,y,w,h) in faces:\n",
    "\n",
    "            #cv.rectangle(img,(x,y),(x+w,y+h),(0,0,255),2)\n",
    "            \"\"\"x,y=int(x*0.7),int(y*0.7)\n",
    "            w,h=int(w*2),int(h*1.7)\"\"\"\n",
    "            img = blend(img, emojis[r], (x, y, w, h))\n",
    "\n",
    "        cv2.imshow(\"Face\",img)\n",
    "        \n",
    "        if (cv2.waitKey(1)==ord(\"q\")):\n",
    "            break\n",
    "    cam.release()\n",
    "    cv2.destroyWindow(\"Face\")"
   ]
  },
  {
   "cell_type": "code",
   "execution_count": 13,
   "metadata": {},
   "outputs": [],
   "source": [
    "emoFace()\n"
   ]
  },
  {
   "cell_type": "code",
   "execution_count": null,
   "metadata": {},
   "outputs": [],
   "source": []
  },
  {
   "cell_type": "code",
   "execution_count": null,
   "metadata": {},
   "outputs": [],
   "source": []
  }
 ],
 "metadata": {
  "kernelspec": {
   "display_name": "Python 3",
   "language": "python",
   "name": "python3"
  },
  "language_info": {
   "codemirror_mode": {
    "name": "ipython",
    "version": 3
   },
   "file_extension": ".py",
   "mimetype": "text/x-python",
   "name": "python",
   "nbconvert_exporter": "python",
   "pygments_lexer": "ipython3",
   "version": "3.7.1"
  }
 },
 "nbformat": 4,
 "nbformat_minor": 2
}
